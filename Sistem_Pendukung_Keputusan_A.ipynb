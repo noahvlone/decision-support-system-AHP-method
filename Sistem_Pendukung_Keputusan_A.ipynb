{
  "nbformat": 4,
  "nbformat_minor": 0,
  "metadata": {
    "colab": {
      "provenance": [],
      "authorship_tag": "ABX9TyOuZqHNWUXo9ih/VW5CwaVK",
      "include_colab_link": true
    },
    "kernelspec": {
      "name": "python3",
      "display_name": "Python 3"
    },
    "language_info": {
      "name": "python"
    }
  },
  "cells": [
    {
      "cell_type": "markdown",
      "metadata": {
        "id": "view-in-github",
        "colab_type": "text"
      },
      "source": [
        "<a href=\"https://colab.research.google.com/github/noahvlone/sistem-pendukung-keputusan/blob/main/Sistem_Pendukung_Keputusan_A.ipynb\" target=\"_parent\"><img src=\"https://colab.research.google.com/assets/colab-badge.svg\" alt=\"Open In Colab\"/></a>"
      ]
    },
    {
      "cell_type": "code",
      "source": [
        "print(\"NIM         : 4522210103\")\n",
        "print(\"Nama        : Farhan Ramadhan\")\n",
        "print(\"Mata Kuliah : Sistem Pendukung Keputusan A\")"
      ],
      "metadata": {
        "id": "7N_wGLUP2Pu1",
        "colab": {
          "base_uri": "https://localhost:8080/"
        },
        "outputId": "a1843aa7-4d24-4a13-fed4-e6df456d380c"
      },
      "execution_count": 1,
      "outputs": [
        {
          "output_type": "stream",
          "name": "stdout",
          "text": [
            "NIM         : 4522210103\n",
            "Nama        : Farhan Ramadhan\n",
            "Mata Kuliah : Sistem Pendukung Keputusan A\n"
          ]
        }
      ]
    },
    {
      "cell_type": "markdown",
      "source": [
        "##Import Libraries"
      ],
      "metadata": {
        "id": "iAA2BVtWk1mJ"
      }
    },
    {
      "cell_type": "code",
      "source": [
        "# Importing libraries\n",
        "import numpy as np\n",
        "import pandas as pd\n",
        "import yfinance as yf"
      ],
      "metadata": {
        "id": "OF3wqiAUVxXT"
      },
      "execution_count": 1,
      "outputs": []
    },
    {
      "cell_type": "markdown",
      "source": [
        "##Fetch Historical Stocks Data"
      ],
      "metadata": {
        "id": "2mV7MGK3k9Es"
      }
    },
    {
      "cell_type": "code",
      "source": [
        "# List of selected stocks (10 global stocks)\n",
        "stocks = ['MSFT', 'TSLA', 'AMZN', 'NVDA', 'SONY', 'AAPL', 'CSCO', 'META', 'IBM', 'INTC']\n",
        "\n",
        "# Fetch historical stock data\n",
        "print(\"\\nFetching data from Yahoo Finance...\")\n",
        "data = yf.download(stocks, start='2024-11-01', end='2024-12-01')"
      ],
      "metadata": {
        "id": "65KLDD36V13h",
        "colab": {
          "base_uri": "https://localhost:8080/"
        },
        "outputId": "3a6361ee-411d-4d39-dbd0-96c9103c507d"
      },
      "execution_count": 2,
      "outputs": [
        {
          "output_type": "stream",
          "name": "stdout",
          "text": [
            "\n",
            "Fetching data from Yahoo Finance...\n"
          ]
        },
        {
          "output_type": "stream",
          "name": "stderr",
          "text": [
            "[*********************100%***********************]  10 of 10 completed\n"
          ]
        }
      ]
    },
    {
      "cell_type": "markdown",
      "source": [
        "##Calculate Criteria Values"
      ],
      "metadata": {
        "id": "eb9cCAUtlJAT"
      }
    },
    {
      "cell_type": "code",
      "source": [
        "# Calculate daily returns\n",
        "returns = data['Adj Close'].pct_change().dropna()\n",
        "\n",
        "# Calculate criteria values\n",
        "volatility = returns.std() * np.sqrt(252)  # Annualized volatility (Risk)\n",
        "average_return = returns.mean() * 252      # Annualized return\n",
        "average_volume = data['Volume'].mean()     # Liquidity\n",
        "\n",
        "# Display computed criteria\n",
        "print(\"\\n--- Computed Criteria Values ---\")\n",
        "criteria_df = pd.DataFrame({\n",
        "    'Risk (Volatility)': volatility,\n",
        "    'Return': average_return,\n",
        "    'Liquidity (Volume)': average_volume\n",
        "})\n",
        "print(criteria_df)"
      ],
      "metadata": {
        "id": "8d_QX6zgV-UK",
        "colab": {
          "base_uri": "https://localhost:8080/"
        },
        "outputId": "7b1e69f6-f89b-4e61-a95a-8b55c19d2657"
      },
      "execution_count": 3,
      "outputs": [
        {
          "output_type": "stream",
          "name": "stdout",
          "text": [
            "\n",
            "--- Computed Criteria Values ---\n",
            "        Risk (Volatility)    Return  Liquidity (Volume)\n",
            "Ticker                                                 \n",
            "AAPL             0.142515  0.856979          44582030.0\n",
            "AMZN             0.319060  0.700217          45296895.0\n",
            "CSCO             0.172000  0.873630          20497360.0\n",
            "IBM              0.219702  1.297332           3863975.0\n",
            "INTC             0.502130  0.595856          71765820.0\n",
            "META             0.245753  0.195137          11890560.0\n",
            "MSFT             0.189151  0.460352          22116060.0\n",
            "NVDA             0.393233  0.349433         224903765.0\n",
            "SONY             0.408667  1.713046           3115575.0\n",
            "TSLA             0.829355  4.684187         104595695.0\n"
          ]
        }
      ]
    },
    {
      "cell_type": "markdown",
      "source": [
        "##Define AHP Pairwise Comparison Matrix"
      ],
      "metadata": {
        "id": "795quzdWlO5d"
      }
    },
    {
      "cell_type": "code",
      "source": [
        "# Define AHP pairwise comparison matrix for criteria\n",
        "criteria_matrix = np.array([\n",
        "    [1, 3, 5],  # Risk is moderately to strongly more important than Return and Liquidity\n",
        "    [1/3, 1, 3], # Return is less important than Risk but more than Liquidity\n",
        "    [1/5, 1/3, 1]  # Liquidity is least important\n",
        "])\n",
        "\n",
        "# Function to calculate weights from AHP matrix\n",
        "def calculate_weights(matrix):\n",
        "    column_sums = matrix.sum(axis=0)\n",
        "    normalized_matrix = matrix / column_sums\n",
        "    weights = normalized_matrix.mean(axis=1)\n",
        "    return weights\n",
        "\n",
        "# Calculate criteria weights\n",
        "criteria_weights = calculate_weights(criteria_matrix)\n",
        "print(\"\\n--- Criteria Weights ---\")\n",
        "print(criteria_weights)"
      ],
      "metadata": {
        "id": "Ks8S-4tyWH0v",
        "colab": {
          "base_uri": "https://localhost:8080/"
        },
        "outputId": "1e9886ea-2bbb-4949-fa15-9aed65faf4f2"
      },
      "execution_count": 4,
      "outputs": [
        {
          "output_type": "stream",
          "name": "stdout",
          "text": [
            "\n",
            "--- Criteria Weights ---\n",
            "[0.63334572 0.26049796 0.10615632]\n"
          ]
        }
      ]
    },
    {
      "cell_type": "markdown",
      "source": [
        "##Normalize and Calculate Overall Scores"
      ],
      "metadata": {
        "id": "mev9BMIjlg8o"
      }
    },
    {
      "cell_type": "code",
      "source": [
        "# Normalize the alternatives for each criterion\n",
        "def normalize_criteria(values):\n",
        "    return values / values.sum()\n",
        "\n",
        "# Normalize the criteria\n",
        "normalized_risk = normalize_criteria(1 / criteria_df['Risk (Volatility)'])  # Lower risk is better\n",
        "normalized_return = normalize_criteria(criteria_df['Return'])              # Higher return is better\n",
        "normalized_liquidity = normalize_criteria(criteria_df['Liquidity (Volume)']) # Higher liquidity is better\n",
        "\n",
        "# Combine normalized scores with criteria weights\n",
        "overall_scores = (\n",
        "    criteria_weights[0] * normalized_risk +\n",
        "    criteria_weights[1] * normalized_return +\n",
        "    criteria_weights[2] * normalized_liquidity\n",
        ")\n",
        "\n",
        "# Add scores to the dataframe\n",
        "criteria_df['Overall Score'] = overall_scores\n",
        "criteria_df = criteria_df.sort_values(by='Overall Score', ascending=False)"
      ],
      "metadata": {
        "id": "suV6VUWoWQZl"
      },
      "execution_count": 5,
      "outputs": []
    },
    {
      "cell_type": "markdown",
      "source": [
        "##Display Results"
      ],
      "metadata": {
        "id": "mRQ_w9wmlpad"
      }
    },
    {
      "cell_type": "code",
      "source": [
        "# Display title\n",
        "print(\"\\n--- Decision Support System for Stock Investment ---\")\n",
        "print(\"\\n---      Criteria: Risk, Return, Liquidity       ---\")\n",
        "\n",
        "# Display results\n",
        "print(\"\\nInvestment Recommendation\")\n",
        "print(criteria_df)\n",
        "\n",
        "# Display Top 3 stocks\n",
        "print(\"\\nTop 3 Stocks to Invest In:\")\n",
        "print(criteria_df.head(3))"
      ],
      "metadata": {
        "id": "ssfjEerSWUTU",
        "colab": {
          "base_uri": "https://localhost:8080/"
        },
        "outputId": "f7a6079b-165e-4f37-a1cd-97f9dbc8908a"
      },
      "execution_count": 6,
      "outputs": [
        {
          "output_type": "stream",
          "name": "stdout",
          "text": [
            "\n",
            "--- Decision Support System for Stock Investment ---\n",
            "\n",
            "---      Criteria: Risk, Return, Liquidity       ---\n",
            "\n",
            "Investment Recommendation\n",
            "        Risk (Volatility)    Return  Liquidity (Volume)  Overall Score\n",
            "Ticker                                                                \n",
            "AAPL             0.142515  0.856979          44582030.0       0.144367\n",
            "TSLA             0.829355  4.684187         104595695.0       0.144217\n",
            "CSCO             0.172000  0.873630          20497360.0       0.120094\n",
            "IBM              0.219702  1.297332           3863975.0       0.105305\n",
            "MSFT             0.189151  0.460352          22116060.0       0.102452\n",
            "NVDA             0.393233  0.349433         224903765.0       0.093283\n",
            "SONY             0.408667  1.713046           3115575.0       0.079374\n",
            "AMZN             0.319060  0.700217          45296895.0       0.076412\n",
            "META             0.245753  0.195137          11890560.0       0.074333\n",
            "INTC             0.502130  0.595856          71765820.0       0.060163\n",
            "\n",
            "Top 3 Stocks to Invest In:\n",
            "        Risk (Volatility)    Return  Liquidity (Volume)  Overall Score\n",
            "Ticker                                                                \n",
            "AAPL             0.142515  0.856979          44582030.0       0.144367\n",
            "TSLA             0.829355  4.684187         104595695.0       0.144217\n",
            "CSCO             0.172000  0.873630          20497360.0       0.120094\n"
          ]
        }
      ]
    },
    {
      "cell_type": "markdown",
      "source": [
        "##Save Data"
      ],
      "metadata": {
        "id": "Z3oWqcqa3GXB"
      }
    },
    {
      "cell_type": "code",
      "source": [
        "# Save historical stock data to a CSV file\n",
        "historical_data_filename = 'historical_stock_data.csv'\n",
        "data.to_csv(historical_data_filename)\n",
        "print(f\"\\nHistorical stock data saved to: {historical_data_filename}\")\n",
        "\n",
        "# Save criteria dataframe to a CSV file\n",
        "criteria_data_filename = 'criteria_data.csv'\n",
        "criteria_df.to_csv(criteria_data_filename)\n",
        "print(f\"Criteria and overall scores saved to: {criteria_data_filename}\")"
      ],
      "metadata": {
        "colab": {
          "base_uri": "https://localhost:8080/"
        },
        "id": "JDIoyMiqoCqa",
        "outputId": "218e09c1-b903-421e-dfd4-81a090991105"
      },
      "execution_count": 7,
      "outputs": [
        {
          "output_type": "stream",
          "name": "stdout",
          "text": [
            "\n",
            "Historical stock data saved to: historical_stock_data.csv\n",
            "Criteria and overall scores saved to: criteria_data.csv\n"
          ]
        }
      ]
    }
  ]
}