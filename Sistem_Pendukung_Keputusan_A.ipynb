{
  "nbformat": 4,
  "nbformat_minor": 0,
  "metadata": {
    "colab": {
      "provenance": [],
      "authorship_tag": "ABX9TyODcUeQhg6b9oz1d8DbTM4x",
      "include_colab_link": true
    },
    "kernelspec": {
      "name": "python3",
      "display_name": "Python 3"
    },
    "language_info": {
      "name": "python"
    }
  },
  "cells": [
    {
      "cell_type": "markdown",
      "metadata": {
        "id": "view-in-github",
        "colab_type": "text"
      },
      "source": [
        "<a href=\"https://colab.research.google.com/github/noahvlone/sistem-pendukung-keputusan/blob/main/Sistem_Pendukung_Keputusan_A.ipynb\" target=\"_parent\"><img src=\"https://colab.research.google.com/assets/colab-badge.svg\" alt=\"Open In Colab\"/></a>"
      ]
    },
    {
      "cell_type": "code",
      "source": [
        "print(\"NIM         : 4522210103\")\n",
        "print(\"Nama        : Farhan Ramadhan\")\n",
        "print(\"Mata Kuliah : Sistem Pendukung Keputusan A\")"
      ],
      "metadata": {
        "id": "7N_wGLUP2Pu1"
      },
      "execution_count": null,
      "outputs": []
    },
    {
      "cell_type": "code",
      "source": [
        "# Import necessary libraries\n",
        "import numpy as np\n",
        "import pandas as pd\n",
        "import yfinance as yf"
      ],
      "metadata": {
        "id": "OF3wqiAUVxXT"
      },
      "execution_count": null,
      "outputs": []
    },
    {
      "cell_type": "code",
      "source": [
        "# Fungsi untuk menghitung bobot dari matriks perbandingan berpasangan\n",
        "def hitung_bobot(matriks):\n",
        "    total_per_kolom = np.sum(matriks, axis=0)\n",
        "    matriks_normalisasi = matriks / total_per_kolom\n",
        "    bobot = np.mean(matriks_normalisasi, axis=1)\n",
        "    return bobot"
      ],
      "metadata": {
        "id": "65KLDD36V13h"
      },
      "execution_count": null,
      "outputs": []
    },
    {
      "cell_type": "code",
      "source": [
        "# Fungsi untuk menghitung Rasio Konsistensi (CI / RI)\n",
        "def hitung_konsistensi(matriks, bobot):\n",
        "    lambdamax = np.mean(np.sum(matriks * bobot, axis=1) / bobot)\n",
        "    CI = (lambdamax - len(bobot)) / (len(bobot) - 1)\n",
        "    # Nilai Acak Konsistensi (RI) untuk ukuran matriks 10x10 adalah 1.49\n",
        "    RI = 1.49\n",
        "    CR = CI / RI\n",
        "    return CR"
      ],
      "metadata": {
        "id": "8d_QX6zgV-UK"
      },
      "execution_count": null,
      "outputs": []
    },
    {
      "cell_type": "code",
      "source": [
        "# Mengambil data historis dari Yahoo Finance\n",
        "symbols = ['AAPL', 'GOOGL', 'MSFT', 'TSLA', 'AMD', 'AMZN', 'META', 'NVDA', 'BABA', 'NFLX']\n",
        "data = yf.download(symbols, start='2024-11-01', end='2024-11-07')\n",
        "data.head()"
      ],
      "metadata": {
        "id": "Ks8S-4tyWH0v"
      },
      "execution_count": null,
      "outputs": []
    },
    {
      "cell_type": "code",
      "source": [
        "# Menghitung pengembalian harian dan volatilitas untuk setiap saham\n",
        "returns = data['Adj Close'].pct_change()\n",
        "volatilitas = returns.std()\n",
        "return_harian = returns.mean()\n",
        "volume_harian = data['Volume'].mean()"
      ],
      "metadata": {
        "id": "suV6VUWoWQZl"
      },
      "execution_count": null,
      "outputs": []
    },
    {
      "cell_type": "code",
      "source": [
        "# Matriks Perbandingan Berpasangan untuk Kriteria: Risiko, Return, Likuiditas, Jangka Waktu\n",
        "matriks_kriteria = np.array([\n",
        "    [1, 3, 5, 7],\n",
        "    [1/3, 1, 3, 5],\n",
        "    [1/5, 1/3, 1, 3],\n",
        "    [1/7, 1/5, 1/3, 1]\n",
        "])\n",
        "\n",
        "# Hitung bobot dan cek konsistensi\n",
        "bobot_kriteria = hitung_bobot(matriks_kriteria)\n",
        "CR = hitung_konsistensi(matriks_kriteria, bobot_kriteria)\n",
        "print(\"Bobot Kriteria:\", bobot_kriteria)\n",
        "print(\"Rasio Konsistensi:\", CR)"
      ],
      "metadata": {
        "id": "ssfjEerSWUTU"
      },
      "execution_count": null,
      "outputs": []
    },
    {
      "cell_type": "code",
      "source": [
        "# Matriks Perbandingan Berpasangan 10x10 untuk Alternatif pada setiap Kriteria\n",
        "matriks_risiko = np.zeros((10, 10))\n",
        "matriks_return = np.zeros((10, 10))\n",
        "matriks_likuiditas = np.zeros((10, 10))\n",
        "\n",
        "# Matriks Risiko berdasarkan volatilitas\n",
        "for i in range(10):\n",
        "    for j in range(10):\n",
        "        matriks_risiko[i][j] = volatilitas[i] / volatilitas[j]\n",
        "\n",
        "# Matriks Return berdasarkan pengembalian rata-rata\n",
        "for i in range(10):\n",
        "    for j in range(10):\n",
        "        matriks_return[i][j] = return_harian[i] / return_harian[j]\n",
        "\n",
        "# Matriks Likuiditas berdasarkan volume perdagangan\n",
        "for i in range(10):\n",
        "    for j in range(10):\n",
        "        matriks_likuiditas[i][j] = volume_harian[i] / volume_harian[j]"
      ],
      "metadata": {
        "id": "kI7rj0ioWax6"
      },
      "execution_count": null,
      "outputs": []
    },
    {
      "cell_type": "code",
      "source": [
        "# Hitung bobot untuk setiap alternatif pada setiap kriteria\n",
        "bobot_risiko = hitung_bobot(matriks_risiko)\n",
        "bobot_return = hitung_bobot(matriks_return)\n",
        "bobot_likuiditas = hitung_bobot(matriks_likuiditas)\n",
        "\n",
        "# Gabungkan bobot kriteria dan alternatif untuk mendapatkan skor akhir\n",
        "skor_akhir = (\n",
        "    bobot_kriteria[0] * bobot_risiko +\n",
        "    bobot_kriteria[1] * bobot_return +\n",
        "    bobot_kriteria[2] * bobot_likuiditas\n",
        ")"
      ],
      "metadata": {
        "id": "40CxIVG0WhCG"
      },
      "execution_count": null,
      "outputs": []
    },
    {
      "cell_type": "code",
      "source": [
        "# Tampilkan rekomendasi berdasarkan skor akhir\n",
        "print(\"\\nSkor Akhir untuk setiap alternatif investasi:\")\n",
        "for alt, skor in zip(symbols, skor_akhir):\n",
        "    print(f\"{alt}: {skor}\")\n",
        "\n",
        "# Menentukan Top 3 saham terbaik\n",
        "top_3_indices = np.argsort(skor_akhir)[-3:][::-1]  # Mengambil 3 skor tertinggi\n",
        "top_3_symbols = [symbols[i] for i in top_3_indices]\n",
        "top_3_scores = [skor_akhir[i] for i in top_3_indices]\n",
        "\n",
        "print(\"\\nTop 3 Saham Terbaik Berdasarkan Analisis:\")\n",
        "for i, (symbol, score) in enumerate(zip(top_3_symbols, top_3_scores), start=1):\n",
        "    print(f\"{i}. {symbol}: {score}\")\n",
        "\n",
        "rekomendasi = symbols[np.argmax(skor_akhir)]\n",
        "print(f\"\\nRekomendasi Investasi Terbaik: {rekomendasi}\")"
      ],
      "metadata": {
        "id": "_5T80uw5WnBT"
      },
      "execution_count": null,
      "outputs": []
    },
    {
      "cell_type": "code",
      "source": [
        "# Menyimpan data untuk setiap saham ke file CSV\n",
        "all_data = {}  # Dictionary untuk menyimpan semua data saham\n",
        "\n",
        "# Mengunduh data untuk setiap saham\n",
        "for saham in symbols:\n",
        "    data = yf.download(saham, start='2024-10-13', end='2024-10-27')\n",
        "    all_data[saham] = data\n",
        "\n",
        "# Menyimpan data ke dalam file CSV\n",
        "for saham, data in all_data.items():\n",
        "    data.to_csv(f'data_{saham}.csv')"
      ],
      "metadata": {
        "id": "EfhPsr7F1lCq"
      },
      "execution_count": null,
      "outputs": []
    }
  ]
}