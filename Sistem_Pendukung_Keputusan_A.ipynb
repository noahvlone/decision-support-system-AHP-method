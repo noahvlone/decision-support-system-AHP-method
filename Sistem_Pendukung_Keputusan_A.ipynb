{
  "nbformat": 4,
  "nbformat_minor": 0,
  "metadata": {
    "colab": {
      "provenance": [],
      "authorship_tag": "ABX9TyPRXS/gXF4JFmiEF7h45cWs",
      "include_colab_link": true
    },
    "kernelspec": {
      "name": "python3",
      "display_name": "Python 3"
    },
    "language_info": {
      "name": "python"
    }
  },
  "cells": [
    {
      "cell_type": "markdown",
      "metadata": {
        "id": "view-in-github",
        "colab_type": "text"
      },
      "source": [
        "<a href=\"https://colab.research.google.com/github/noahvlone/decision-support-system-AHP-method/blob/main/Sistem_Pendukung_Keputusan_A.ipynb\" target=\"_parent\"><img src=\"https://colab.research.google.com/assets/colab-badge.svg\" alt=\"Open In Colab\"/></a>"
      ]
    },
    {
      "cell_type": "code",
      "source": [
        "print(\"NIM         : 4522210103\")\n",
        "print(\"Nama        : Farhan Ramadhan\")\n",
        "print(\"Mata Kuliah : Sistem Pendukung Keputusan A\")"
      ],
      "metadata": {
        "id": "7N_wGLUP2Pu1",
        "colab": {
          "base_uri": "https://localhost:8080/"
        },
        "outputId": "e2d980c6-3df1-4563-f124-30b42ef97138"
      },
      "execution_count": 1,
      "outputs": [
        {
          "output_type": "stream",
          "name": "stdout",
          "text": [
            "NIM         : 4522210103\n",
            "Nama        : Farhan Ramadhan\n",
            "Mata Kuliah : Sistem Pendukung Keputusan A\n"
          ]
        }
      ]
    },
    {
      "cell_type": "markdown",
      "source": [
        "##Import Libraries"
      ],
      "metadata": {
        "id": "iAA2BVtWk1mJ"
      }
    },
    {
      "cell_type": "code",
      "source": [
        "import numpy as np\n",
        "import pandas as pd\n",
        "import yfinance as yf\n",
        "import matplotlib.pyplot as plt\n",
        "import seaborn as sns"
      ],
      "metadata": {
        "id": "OF3wqiAUVxXT"
      },
      "execution_count": 2,
      "outputs": []
    },
    {
      "cell_type": "markdown",
      "source": [
        "##Fetch Historical Stocks Data"
      ],
      "metadata": {
        "id": "2mV7MGK3k9Es"
      }
    },
    {
      "cell_type": "code",
      "source": [
        "# Step 1: Fetch Historical Stock Data\n",
        "print(\"Fetching stock data from Yahoo Finance...\")\n",
        "stocks = ['AAPL', 'MSFT', 'GOOGL', 'AMZN', 'TSLA', 'NVDA', 'META', 'IBM', 'SONY', 'BABA']\n",
        "data = yf.download(stocks, start='2024-01-01', end='2024-12-01')"
      ],
      "metadata": {
        "id": "65KLDD36V13h",
        "colab": {
          "base_uri": "https://localhost:8080/"
        },
        "outputId": "d2b7bb37-b9e8-4117-f6c9-5dd2b0afcc1f"
      },
      "execution_count": 3,
      "outputs": [
        {
          "output_type": "stream",
          "name": "stdout",
          "text": [
            "Fetching stock data from Yahoo Finance...\n"
          ]
        },
        {
          "output_type": "stream",
          "name": "stderr",
          "text": [
            "[*********************100%***********************]  10 of 10 completed\n"
          ]
        }
      ]
    },
    {
      "cell_type": "markdown",
      "source": [
        "##Calculate Criteria Values"
      ],
      "metadata": {
        "id": "eb9cCAUtlJAT"
      }
    },
    {
      "cell_type": "code",
      "source": [
        "# Calculate daily returns\n",
        "returns = data['Adj Close'].pct_change().dropna()\n",
        "\n",
        "# Step 2: Calculate Criteria Values\n",
        "volatility = returns.std() * np.sqrt(252)  # Annualized risk\n",
        "average_return = returns.mean() * 252      # Annualized return\n",
        "average_volume = data['Volume'].mean()     # Average liquidity\n",
        "\n",
        "# Prepare criteria DataFrame\n",
        "criteria_df = pd.DataFrame({\n",
        "    'Risk': volatility,\n",
        "    'Return': average_return,\n",
        "    'Liquidity': average_volume\n",
        "})\n",
        "\n",
        "print(\"\\n--- Criteria Values ---\")\n",
        "print(criteria_df)"
      ],
      "metadata": {
        "id": "8d_QX6zgV-UK",
        "colab": {
          "base_uri": "https://localhost:8080/"
        },
        "outputId": "ef6f2682-ca3b-405d-91ca-b5fd2a99b752"
      },
      "execution_count": 4,
      "outputs": [
        {
          "output_type": "stream",
          "name": "stdout",
          "text": [
            "\n",
            "--- Criteria Values ---\n",
            "            Risk    Return     Liquidity\n",
            "Ticker                                  \n",
            "AAPL    0.229175  0.300638  5.808724e+07\n",
            "AMZN    0.282015  0.397960  4.141500e+07\n",
            "BABA    0.376040  0.264247  1.758604e+07\n",
            "GOOGL   0.272483  0.260100  2.715542e+07\n",
            "IBM     0.234417  0.441553  4.239343e+06\n",
            "META    0.371002  0.624627  1.487792e+07\n",
            "MSFT    0.200016  0.173557  2.055511e+07\n",
            "NVDA    0.538985  1.301261  3.939699e+08\n",
            "SONY    0.275395  0.119852  3.832239e+06\n",
            "TSLA    0.634702  0.556462  9.521575e+07\n"
          ]
        }
      ]
    },
    {
      "cell_type": "markdown",
      "source": [
        "##Define AHP Pairwise Comparison Matrix"
      ],
      "metadata": {
        "id": "795quzdWlO5d"
      }
    },
    {
      "cell_type": "code",
      "source": [
        "# Step 3: Define Pairwise Comparison Matrix and Criteria Weights\n",
        "pairwise_matrix = np.array([\n",
        "    [1, 3, 5],\n",
        "    [1/3, 1, 3],\n",
        "    [1/5, 1/3, 1]\n",
        "])\n",
        "\n",
        "# Function to calculate weights and check consistency\n",
        "def calculate_ahp_weights(matrix):\n",
        "    n = matrix.shape[0]\n",
        "    column_sum = matrix.sum(axis=0)\n",
        "    normalized_matrix = matrix / column_sum\n",
        "    weights = normalized_matrix.mean(axis=1)\n",
        "\n",
        "    # Consistency check\n",
        "    eigenvalues = np.dot(matrix, weights) / weights\n",
        "    lambda_max = np.mean(eigenvalues)\n",
        "    CI = (lambda_max - n) / (n - 1)\n",
        "    RI_values = {1: 0.00, 2: 0.00, 3: 0.58, 4: 0.90, 5: 1.12}\n",
        "    RI = RI_values.get(n, 1.12)\n",
        "    CR = CI / RI\n",
        "\n",
        "    return weights, CR\n",
        "\n",
        "criteria_weights, CR = calculate_ahp_weights(pairwise_matrix)\n",
        "if CR >= 0.1:\n",
        "    raise ValueError(f\"Consistency Ratio is too high (CR = {CR:.2f}). Please revise the pairwise matrix.\")\n",
        "print(\"\\n--- Criteria Weights ---\")\n",
        "print(criteria_weights)"
      ],
      "metadata": {
        "id": "Ks8S-4tyWH0v",
        "colab": {
          "base_uri": "https://localhost:8080/"
        },
        "outputId": "9ccf6fe5-3b3c-4f75-9b9e-1cc59b63ca23"
      },
      "execution_count": 5,
      "outputs": [
        {
          "output_type": "stream",
          "name": "stdout",
          "text": [
            "\n",
            "--- Criteria Weights ---\n",
            "[0.63334572 0.26049796 0.10615632]\n"
          ]
        }
      ]
    },
    {
      "cell_type": "markdown",
      "source": [
        "##Normalize and Calculate Overall Scores"
      ],
      "metadata": {
        "id": "mev9BMIjlg8o"
      }
    },
    {
      "cell_type": "code",
      "source": [
        "# Step 4: Normalize and Calculate Scores\n",
        "def normalize(values):\n",
        "    return values / values.sum()\n",
        "\n",
        "# Invert Risk since lower is better\n",
        "criteria_df['Normalized Risk'] = normalize(1 / criteria_df['Risk'])\n",
        "criteria_df['Normalized Return'] = normalize(criteria_df['Return'])\n",
        "criteria_df['Normalized Liquidity'] = normalize(criteria_df['Liquidity'])\n",
        "\n",
        "# Calculate Overall Scores\n",
        "criteria_df['Overall Score'] = (\n",
        "    criteria_weights[0] * criteria_df['Normalized Risk'] +\n",
        "    criteria_weights[1] * criteria_df['Normalized Return'] +\n",
        "    criteria_weights[2] * criteria_df['Normalized Liquidity']\n",
        ")\n",
        "\n",
        "# Sort by Overall Score\n",
        "criteria_df = criteria_df.sort_values(by='Overall Score', ascending=False)"
      ],
      "metadata": {
        "id": "suV6VUWoWQZl"
      },
      "execution_count": 9,
      "outputs": []
    },
    {
      "cell_type": "markdown",
      "source": [
        "##Display Results"
      ],
      "metadata": {
        "id": "mRQ_w9wmlpad"
      }
    },
    {
      "cell_type": "code",
      "source": [
        "# Step 5: Visualization with Enhanced Aesthetics\n",
        "print(\"\\n--- Stock Rankings ---\")\n",
        "#print(criteria_df[['Normalized Risk', 'Normalized Return', 'Normalized Liquidity', 'Overall Score']])\n",
        "print(criteria_df)\n",
        "print(\"\\n\")\n",
        "\n",
        "sns.set_style(\"whitegrid\")\n",
        "plt.figure(figsize=(10, 5))\n",
        "bar_colors = sns.color_palette(\"Blues\", len(criteria_df))\n",
        "\n",
        "bars = plt.bar(criteria_df.index, criteria_df['Overall Score'], color=bar_colors, edgecolor='black')\n",
        "plt.xlabel('Stocks', fontsize=14)\n",
        "plt.ylabel('Overall Scores', fontsize=14)\n",
        "plt.title('Enhanced Stock Rankings Based on AHP', fontsize=16, fontweight='bold')\n",
        "plt.xticks(rotation=45, fontsize=12)\n",
        "plt.yticks(fontsize=12)\n",
        "\n",
        "# Add annotations to bars\n",
        "for bar in bars:\n",
        "    plt.text(\n",
        "        bar.get_x() + bar.get_width() / 2,\n",
        "        bar.get_height(),\n",
        "        f'{bar.get_height():.2f}',\n",
        "        ha='center',\n",
        "        va='bottom',\n",
        "        fontsize=11,\n",
        "        color='black'\n",
        "    )\n",
        "\n",
        "# Add gradient background\n",
        "plt.gca().set_facecolor('#f7f9fc')\n",
        "plt.tight_layout()\n",
        "plt.show()"
      ],
      "metadata": {
        "id": "ssfjEerSWUTU",
        "colab": {
          "base_uri": "https://localhost:8080/",
          "height": 1000
        },
        "outputId": "4a70f233-5348-4373-87ee-73478c2600bc"
      },
      "execution_count": 13,
      "outputs": [
        {
          "output_type": "stream",
          "name": "stdout",
          "text": [
            "\n",
            "--- Stock Rankings ---\n",
            "            Risk    Return     Liquidity  Normalized Risk  Normalized Return  \\\n",
            "Ticker                                                                         \n",
            "NVDA    0.538985  1.301261  3.939699e+08         0.055780           0.293060   \n",
            "AAPL    0.229175  0.300638  5.808724e+07         0.131187           0.067707   \n",
            "MSFT    0.200016  0.173557  2.055511e+07         0.150311           0.039087   \n",
            "IBM     0.234417  0.441553  4.239343e+06         0.128253           0.099443   \n",
            "AMZN    0.282015  0.397960  4.141500e+07         0.106607           0.089625   \n",
            "META    0.371002  0.624627  1.487792e+07         0.081037           0.140674   \n",
            "GOOGL   0.272483  0.260100  2.715542e+07         0.110336           0.058578   \n",
            "TSLA    0.634702  0.556462  9.521575e+07         0.047368           0.125322   \n",
            "SONY    0.275395  0.119852  3.832239e+06         0.109170           0.026992   \n",
            "BABA    0.376040  0.264247  1.758604e+07         0.079951           0.059512   \n",
            "\n",
            "        Normalized Liquidity  Overall Score  \n",
            "Ticker                                       \n",
            "NVDA                0.581992       0.173452  \n",
            "AAPL                0.085809       0.109833  \n",
            "MSFT                0.030365       0.108605  \n",
            "IBM                 0.006263       0.107798  \n",
            "AMZN                0.061180       0.097361  \n",
            "META                0.021978       0.090302  \n",
            "GOOGL               0.040115       0.089399  \n",
            "TSLA                0.140657       0.077578  \n",
            "SONY                0.005661       0.076774  \n",
            "BABA                0.025979       0.068897  \n",
            "\n",
            "\n"
          ]
        },
        {
          "output_type": "display_data",
          "data": {
            "text/plain": [
              "<Figure size 1000x500 with 1 Axes>"
            ],
            "image/png": "[encoded data removed]"
          },
          "metadata": {}
        }
      ]
    },
    {
      "cell_type": "markdown",
      "source": [
        "##Save Data"
      ],
      "metadata": {
        "id": "Z3oWqcqa3GXB"
      }
    },
    {
      "cell_type": "code",
      "source": [
        "# Save historical stock data to a CSV file\n",
        "historical_data_filename = 'historical_stock_data.csv'\n",
        "data.to_csv(historical_data_filename)\n",
        "print(f\"\\nHistorical stock data saved to: {historical_data_filename}\")\n",
        "\n",
        "# Save criteria dataframe to a CSV file\n",
        "criteria_data_filename = 'criteria_data.csv'\n",
        "criteria_df.to_csv(criteria_data_filename)\n",
        "print(f\"Criteria and overall scores saved to: {criteria_data_filename}\")"
      ],
      "metadata": {
        "colab": {
          "base_uri": "https://localhost:8080/"
        },
        "id": "JDIoyMiqoCqa",
        "outputId": "a80de351-fe51-47eb-8a3a-4faef99f04fe"
      },
      "execution_count": 11,
      "outputs": [
        {
          "output_type": "stream",
          "name": "stdout",
          "text": [
            "\n",
            "Historical stock data saved to: historical_stock_data.csv\n",
            "Criteria and overall scores saved to: criteria_data.csv\n"
          ]
        }
      ]
    }
  ]
}